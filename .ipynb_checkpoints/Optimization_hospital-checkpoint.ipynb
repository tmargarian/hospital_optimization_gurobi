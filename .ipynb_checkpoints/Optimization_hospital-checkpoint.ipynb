{
 "cells": [
  {
   "cell_type": "markdown",
   "metadata": {},
   "source": [
    "# Operating Room Scheduling"
   ]
  },
  {
   "cell_type": "markdown",
   "metadata": {},
   "source": [
    "## Background"
   ]
  },
  {
   "cell_type": "markdown",
   "metadata": {},
   "source": [
    "A hospital has six departments which require access to surgical facilities: General Surgery, Emergency,\n",
    "Neuro-surgery, Opthamology, Oral Surgery, and Otolaryngology.\n",
    "    \n",
    "Each department currently shares a set of three operating rooms, and is currently allocated the following amount of total operating\n",
    "room time (in hours per week): \n",
    "\n",
    "| Department         | Total hrs/week OR time | Share of total OR time |\n",
    "|:-------------------|:----------------------:|:----------------------:|\n",
    "|General Surgery     | 92                     | 48.4%                  |\n",
    "|Emergency           |  8                     |  4.2%                  |\n",
    "|Neurosurgery        | 48                     | 25.3%                  |\n",
    "|Ophthalmology       | 14                     |  7.4%                  |              \n",
    "|Oral Surgery        | 10                     |  5.3%                  |\n",
    "|Otorhinolaryngology | 18                     |  9.5%                  |\n",
    "|**Total**           |**190**                 |**100%**                |"
   ]
  },
  {
   "cell_type": "markdown",
   "metadata": {},
   "source": [
    "Next year, the hospital will be relocating to a larger hospital with five operating rooms. The new operating rooms will provide a total of 213.5 hours of operating room time per week (an increase from the current 190 hours per week). The availability of each room on each day of the week is\n",
    "given in the table below:"
   ]
  },
  {
   "cell_type": "markdown",
   "metadata": {},
   "source": [
    "|           |   Main-1   |   Main-2   |   Main-3   |   Main-4   |   Main-5   |\n",
    "|-----------|:----------:|:----------:|:----------:|:----------:|:----------:|\n",
    "| Monday    | 8:00-17:00 | 8:00-17:00 | 8:00-17:00 | 8:00-17:00 | 8:00-15:30 |\n",
    "| Tuesday   | 8:00-17:00 | 8:00-17:00 | 8:00-17:00 | 8:00-17:00 | 8:00-15:30 |\n",
    "| Wednesday | 8:00-17:00 | 8:00-17:00 | 8:00-17:00 | 8:00-17:00 | 8:00-15:30 |\n",
    "| Thursday  | 8:00-17:00 | 8:00-17:00 | 8:00-17:00 | 8:00-17:00 | 8:00-15:30 |\n",
    "| Friday    | 8:00-17:00 | 9:00-17:00 | 9:00-17:00 | 9:00-17:00 | 9:00-15:30 |"
   ]
  },
  {
   "cell_type": "markdown",
   "metadata": {},
   "source": [
    "Moving to the new, larger hospital with more operating rooms means a new schedule must be devised. As a result, the hospital CEO has hired you to develop a new operating room schedule.\n",
    "\n",
    "The main concern of the CEO is to find a schedule that is __*equitable*__. Specifically, she wants the new schedule to allocate slots to each department such that each department maintains its current\n",
    "share (on a % basis) of the total operating room time. \n",
    "\n",
    "Additionally, there are a number of policies that are being considered, and you will be required to determine how each policy might potentially affect the fairness of the new schedule."
   ]
  },
  {
   "cell_type": "markdown",
   "metadata": {},
   "source": [
    "## Objectives"
   ]
  },
  {
   "cell_type": "markdown",
   "metadata": {},
   "source": [
    "### A) \n",
    "\n",
    "First, formulate a schedule that **minimizes the total under-allocation of each department to operating rooms**. For example, General Surgery currently receives 48.4% of the total operating room time, and should therefore receive 48.4% of the total operating room time in the new schedule as well. In particular, the CEO has specified that under-allocation is to be avoided, meaning a penalty should be incurred if a department is allocated __less__ than its target %, but there should be no penalty if a department is allocated __more__ than its target % of operating room time. \n",
    "\n",
    "Your model should produce a new schedule that minimizes the total under-allocation (on a percentage basis). The reason for representing allocation on a percentage basis is that using units of time is not equitable: For example, a loss of 1 hour per week is much more disruptive to Oral Surgery (currently 10 hrs/week) than it is for General Surgery (92 hrs/week)."
   ]
  },
  {
   "cell_type": "code",
   "execution_count": 1,
   "metadata": {},
   "outputs": [],
   "source": [
    "# Import gurobi, numpy and pandas\n",
    "from gurobipy import *\n",
    "import numpy as np\n",
    "import pandas as pd"
   ]
  },
  {
   "cell_type": "markdown",
   "metadata": {},
   "source": [
    "### Data "
   ]
  },
  {
   "cell_type": "code",
   "execution_count": 2,
   "metadata": {},
   "outputs": [
    {
     "name": "stdout",
     "output_type": "stream",
     "text": [
      "Using license file /Users/tigranmargarian/gurobi.lic\n",
      "Academic license - for non-commercial use only\n"
     ]
    }
   ],
   "source": [
    "# Define model and parameters. \n",
    "mod = Model()\n",
    "\n",
    "current_hours = np.array([92, 8, 48, 14, 10, 18])\n",
    "total_current_hours = np.sum(current_hours)\n",
    "\n",
    "\n",
    "# We transpose this matrix because in x[i,j,k] j (rooms) describes rows and k (days) descibes columns\n",
    "available_hours = np.transpose(np.array([[9, 9, 9, 9, 7.5],\n",
    "                                         [9, 9, 9, 9, 7.5],\n",
    "                                         [9, 9, 9, 9, 7.5],\n",
    "                                         [9, 9, 9, 9, 7.5],\n",
    "                                         [9, 8, 8, 8, 6.5]]))\n",
    "\n",
    "total_target_hours = sum(sum(available_hours))\n",
    "target_hours = current_hours / total_current_hours * total_target_hours\n",
    "\n",
    "n_departments = current_hours.size\n",
    "n_rooms = available_hours.shape[0]\n",
    "n_days = available_hours.shape[1]"
   ]
  },
  {
   "cell_type": "markdown",
   "metadata": {},
   "source": [
    "### Decision variables, constraints and objective function"
   ]
  },
  {
   "cell_type": "code",
   "execution_count": 3,
   "metadata": {},
   "outputs": [],
   "source": [
    "# Definition of decision variables \n",
    "\n",
    "s = mod.addVars(n_departments) # s[i] - hours of underallocation of i-th department\n",
    "x = mod.addVars(n_departments, n_rooms, n_days, vtype = GRB.BINARY) # bianry variable x[i,j,k] = 1 if \n",
    "# i-th department takes a slot in j-th room at k-th day"
   ]
  },
  {
   "cell_type": "code",
   "execution_count": 4,
   "metadata": {},
   "outputs": [],
   "source": [
    "# Constraints:\n",
    "\n",
    "# Underallocation constraint:\n",
    "mod.addConstrs(target_hours[i] - sum(x[i,j,k] * available_hours[j][k] \\\n",
    "               for j in range(n_rooms) for k in range(n_days)) <= s[i] \\\n",
    "               for i in range(n_departments))\n",
    "\n",
    "# Only one department cat take a slot in one room at one day\n",
    "mod.addConstrs(sum(x[i,j,k] for i in range(n_departments)) == 1 \\\n",
    "               for j in range(n_rooms) for k in range(n_days))\n",
    "\n",
    "\n",
    "# Construct objective to minimize underallocation \n",
    "mod.setObjective(sum(s[i] / target_hours[i] for i in range(n_departments)), GRB.MINIMIZE)"
   ]
  },
  {
   "cell_type": "code",
   "execution_count": 5,
   "metadata": {},
   "outputs": [
    {
     "name": "stdout",
     "output_type": "stream",
     "text": [
      "Gurobi Optimizer version 9.0.0 build v9.0.0rc2 (mac64)\n",
      "Optimize a model with 31 rows, 156 columns and 306 nonzeros\n",
      "Model fingerprint: 0x2ff8fdb9\n",
      "Variable types: 6 continuous, 150 integer (150 binary)\n",
      "Coefficient statistics:\n",
      "  Matrix range     [1e+00, 9e+00]\n",
      "  Objective range  [1e-02, 1e-01]\n",
      "  Bounds range     [1e+00, 1e+00]\n",
      "  RHS range        [1e+00, 1e+02]\n",
      "Found heuristic solution: objective 0.9750492\n",
      "Presolve time: 0.00s\n",
      "Presolved: 31 rows, 156 columns, 306 nonzeros\n",
      "Variable types: 6 continuous, 150 integer (150 binary)\n",
      "\n",
      "Root relaxation: objective 0.000000e+00, 46 iterations, 0.00 seconds\n",
      "\n",
      "    Nodes    |    Current Node    |     Objective Bounds      |     Work\n",
      " Expl Unexpl |  Obj  Depth IntInf | Incumbent    BestBd   Gap | It/Node Time\n",
      "\n",
      "     0     0    0.00000    0    8    0.97505    0.00000   100%     -    0s\n",
      "H    0     0                       0.4970302    0.00000   100%     -    0s\n",
      "H    0     0                       0.3115166    0.00000   100%     -    0s\n",
      "H    0     0                       0.2967960    0.00000   100%     -    0s\n",
      "H    0     0                       0.2026173    0.00000   100%     -    0s\n",
      "H    0     0                       0.1054446    0.00000   100%     -    0s\n",
      "     0     0    0.04872    0    6    0.10544    0.04872  53.8%     -    0s\n",
      "H    0     0                       0.1026614    0.04872  52.5%     -    0s\n",
      "H    0     0                       0.0790738    0.04872  38.4%     -    0s\n",
      "H    0     0                       0.0521675    0.04872  6.60%     -    0s\n",
      "H    0     0                       0.0520314    0.04872  6.36%     -    0s\n",
      "     0     0    0.05149    0    2    0.05203    0.05149  1.05%     -    0s\n",
      "*    0     0               0       0.0520314    0.05203  0.00%     -    0s\n",
      "\n",
      "Cutting planes:\n",
      "  Gomory: 2\n",
      "  Cover: 4\n",
      "  MIR: 1\n",
      "  StrongCG: 1\n",
      "\n",
      "Explored 1 nodes (119 simplex iterations) in 0.03 seconds\n",
      "Thread count was 16 (of 16 available processors)\n",
      "\n",
      "Solution count 10: 0.0520314 0.0520314 0.0790738 ... 0.975049\n",
      "\n",
      "Optimal solution found (tolerance 1.00e-04)\n",
      "Best objective 5.203135270226e-02, best bound 5.203135270226e-02, gap 0.0000%\n"
     ]
    }
   ],
   "source": [
    "# Update and solve\n",
    "mod.update()\n",
    "mod.optimize()"
   ]
  },
  {
   "cell_type": "code",
   "execution_count": 6,
   "metadata": {},
   "outputs": [
    {
     "name": "stdout",
     "output_type": "stream",
     "text": [
      "Optimal cost: 0.05203135270225944\n"
     ]
    }
   ],
   "source": [
    "# Retrieve optimal value and optimal solution\n",
    "opt_val = mod.objval\n",
    "print(\"Optimal cost:\",opt_val)"
   ]
  },
  {
   "cell_type": "markdown",
   "metadata": {},
   "source": [
    "### The optimized schedule"
   ]
  },
  {
   "cell_type": "code",
   "execution_count": 7,
   "metadata": {},
   "outputs": [
    {
     "data": {
      "text/html": [
       "<div>\n",
       "<style scoped>\n",
       "    .dataframe tbody tr th:only-of-type {\n",
       "        vertical-align: middle;\n",
       "    }\n",
       "\n",
       "    .dataframe tbody tr th {\n",
       "        vertical-align: top;\n",
       "    }\n",
       "\n",
       "    .dataframe thead th {\n",
       "        text-align: right;\n",
       "    }\n",
       "</style>\n",
       "<table border=\"1\" class=\"dataframe\">\n",
       "  <thead>\n",
       "    <tr style=\"text-align: right;\">\n",
       "      <th></th>\n",
       "      <th></th>\n",
       "      <th>Mon</th>\n",
       "      <th>Tue</th>\n",
       "      <th>Wed</th>\n",
       "      <th>Thu</th>\n",
       "      <th>Fri</th>\n",
       "    </tr>\n",
       "  </thead>\n",
       "  <tbody>\n",
       "    <tr>\n",
       "      <th rowspan=\"5\" valign=\"top\">General Surgery</th>\n",
       "      <th>Main-1</th>\n",
       "      <td>1</td>\n",
       "      <td>1</td>\n",
       "      <td>1</td>\n",
       "      <td>1</td>\n",
       "      <td>1</td>\n",
       "    </tr>\n",
       "    <tr>\n",
       "      <th>Main-2</th>\n",
       "      <td>0</td>\n",
       "      <td>1</td>\n",
       "      <td>0</td>\n",
       "      <td>1</td>\n",
       "      <td>0</td>\n",
       "    </tr>\n",
       "    <tr>\n",
       "      <th>Main-3</th>\n",
       "      <td>1</td>\n",
       "      <td>0</td>\n",
       "      <td>0</td>\n",
       "      <td>1</td>\n",
       "      <td>0</td>\n",
       "    </tr>\n",
       "    <tr>\n",
       "      <th>Main-4</th>\n",
       "      <td>1</td>\n",
       "      <td>0</td>\n",
       "      <td>0</td>\n",
       "      <td>0</td>\n",
       "      <td>0</td>\n",
       "    </tr>\n",
       "    <tr>\n",
       "      <th>Main-5</th>\n",
       "      <td>0</td>\n",
       "      <td>0</td>\n",
       "      <td>0</td>\n",
       "      <td>0</td>\n",
       "      <td>0</td>\n",
       "    </tr>\n",
       "    <tr>\n",
       "      <th rowspan=\"5\" valign=\"top\">Emergency</th>\n",
       "      <th>Main-1</th>\n",
       "      <td>0</td>\n",
       "      <td>0</td>\n",
       "      <td>0</td>\n",
       "      <td>0</td>\n",
       "      <td>0</td>\n",
       "    </tr>\n",
       "    <tr>\n",
       "      <th>Main-2</th>\n",
       "      <td>0</td>\n",
       "      <td>0</td>\n",
       "      <td>1</td>\n",
       "      <td>0</td>\n",
       "      <td>0</td>\n",
       "    </tr>\n",
       "    <tr>\n",
       "      <th>Main-3</th>\n",
       "      <td>0</td>\n",
       "      <td>0</td>\n",
       "      <td>0</td>\n",
       "      <td>0</td>\n",
       "      <td>0</td>\n",
       "    </tr>\n",
       "    <tr>\n",
       "      <th>Main-4</th>\n",
       "      <td>0</td>\n",
       "      <td>0</td>\n",
       "      <td>0</td>\n",
       "      <td>0</td>\n",
       "      <td>0</td>\n",
       "    </tr>\n",
       "    <tr>\n",
       "      <th>Main-5</th>\n",
       "      <td>0</td>\n",
       "      <td>0</td>\n",
       "      <td>0</td>\n",
       "      <td>0</td>\n",
       "      <td>0</td>\n",
       "    </tr>\n",
       "    <tr>\n",
       "      <th rowspan=\"5\" valign=\"top\">Neurosurgery</th>\n",
       "      <th>Main-1</th>\n",
       "      <td>0</td>\n",
       "      <td>0</td>\n",
       "      <td>0</td>\n",
       "      <td>0</td>\n",
       "      <td>0</td>\n",
       "    </tr>\n",
       "    <tr>\n",
       "      <th>Main-2</th>\n",
       "      <td>1</td>\n",
       "      <td>0</td>\n",
       "      <td>0</td>\n",
       "      <td>0</td>\n",
       "      <td>0</td>\n",
       "    </tr>\n",
       "    <tr>\n",
       "      <th>Main-3</th>\n",
       "      <td>0</td>\n",
       "      <td>1</td>\n",
       "      <td>1</td>\n",
       "      <td>0</td>\n",
       "      <td>0</td>\n",
       "    </tr>\n",
       "    <tr>\n",
       "      <th>Main-4</th>\n",
       "      <td>0</td>\n",
       "      <td>1</td>\n",
       "      <td>0</td>\n",
       "      <td>1</td>\n",
       "      <td>0</td>\n",
       "    </tr>\n",
       "    <tr>\n",
       "      <th>Main-5</th>\n",
       "      <td>0</td>\n",
       "      <td>0</td>\n",
       "      <td>0</td>\n",
       "      <td>0</td>\n",
       "      <td>0</td>\n",
       "    </tr>\n",
       "    <tr>\n",
       "      <th rowspan=\"5\" valign=\"top\">Opthamology</th>\n",
       "      <th>Main-1</th>\n",
       "      <td>0</td>\n",
       "      <td>0</td>\n",
       "      <td>0</td>\n",
       "      <td>0</td>\n",
       "      <td>0</td>\n",
       "    </tr>\n",
       "    <tr>\n",
       "      <th>Main-2</th>\n",
       "      <td>0</td>\n",
       "      <td>0</td>\n",
       "      <td>0</td>\n",
       "      <td>0</td>\n",
       "      <td>0</td>\n",
       "    </tr>\n",
       "    <tr>\n",
       "      <th>Main-3</th>\n",
       "      <td>0</td>\n",
       "      <td>0</td>\n",
       "      <td>0</td>\n",
       "      <td>0</td>\n",
       "      <td>0</td>\n",
       "    </tr>\n",
       "    <tr>\n",
       "      <th>Main-4</th>\n",
       "      <td>0</td>\n",
       "      <td>0</td>\n",
       "      <td>0</td>\n",
       "      <td>0</td>\n",
       "      <td>1</td>\n",
       "    </tr>\n",
       "    <tr>\n",
       "      <th>Main-5</th>\n",
       "      <td>0</td>\n",
       "      <td>0</td>\n",
       "      <td>0</td>\n",
       "      <td>0</td>\n",
       "      <td>0</td>\n",
       "    </tr>\n",
       "    <tr>\n",
       "      <th rowspan=\"5\" valign=\"top\">Oral Surgery</th>\n",
       "      <th>Main-1</th>\n",
       "      <td>0</td>\n",
       "      <td>0</td>\n",
       "      <td>0</td>\n",
       "      <td>0</td>\n",
       "      <td>0</td>\n",
       "    </tr>\n",
       "    <tr>\n",
       "      <th>Main-2</th>\n",
       "      <td>0</td>\n",
       "      <td>0</td>\n",
       "      <td>0</td>\n",
       "      <td>0</td>\n",
       "      <td>0</td>\n",
       "    </tr>\n",
       "    <tr>\n",
       "      <th>Main-3</th>\n",
       "      <td>0</td>\n",
       "      <td>0</td>\n",
       "      <td>0</td>\n",
       "      <td>0</td>\n",
       "      <td>0</td>\n",
       "    </tr>\n",
       "    <tr>\n",
       "      <th>Main-4</th>\n",
       "      <td>0</td>\n",
       "      <td>0</td>\n",
       "      <td>0</td>\n",
       "      <td>0</td>\n",
       "      <td>0</td>\n",
       "    </tr>\n",
       "    <tr>\n",
       "      <th>Main-5</th>\n",
       "      <td>0</td>\n",
       "      <td>1</td>\n",
       "      <td>0</td>\n",
       "      <td>0</td>\n",
       "      <td>1</td>\n",
       "    </tr>\n",
       "    <tr>\n",
       "      <th rowspan=\"5\" valign=\"top\">Otolaryngology</th>\n",
       "      <th>Main-1</th>\n",
       "      <td>0</td>\n",
       "      <td>0</td>\n",
       "      <td>0</td>\n",
       "      <td>0</td>\n",
       "      <td>0</td>\n",
       "    </tr>\n",
       "    <tr>\n",
       "      <th>Main-2</th>\n",
       "      <td>0</td>\n",
       "      <td>0</td>\n",
       "      <td>0</td>\n",
       "      <td>0</td>\n",
       "      <td>0</td>\n",
       "    </tr>\n",
       "    <tr>\n",
       "      <th>Main-3</th>\n",
       "      <td>0</td>\n",
       "      <td>0</td>\n",
       "      <td>0</td>\n",
       "      <td>0</td>\n",
       "      <td>0</td>\n",
       "    </tr>\n",
       "    <tr>\n",
       "      <th>Main-4</th>\n",
       "      <td>0</td>\n",
       "      <td>0</td>\n",
       "      <td>0</td>\n",
       "      <td>0</td>\n",
       "      <td>0</td>\n",
       "    </tr>\n",
       "    <tr>\n",
       "      <th>Main-5</th>\n",
       "      <td>1</td>\n",
       "      <td>0</td>\n",
       "      <td>1</td>\n",
       "      <td>1</td>\n",
       "      <td>0</td>\n",
       "    </tr>\n",
       "  </tbody>\n",
       "</table>\n",
       "</div>"
      ],
      "text/plain": [
       "                        Mon  Tue  Wed  Thu  Fri\n",
       "General Surgery Main-1    1    1    1    1    1\n",
       "                Main-2    0    1    0    1    0\n",
       "                Main-3    1    0    0    1    0\n",
       "                Main-4    1    0    0    0    0\n",
       "                Main-5    0    0    0    0    0\n",
       "Emergency       Main-1    0    0    0    0    0\n",
       "                Main-2    0    0    1    0    0\n",
       "                Main-3    0    0    0    0    0\n",
       "                Main-4    0    0    0    0    0\n",
       "                Main-5    0    0    0    0    0\n",
       "Neurosurgery    Main-1    0    0    0    0    0\n",
       "                Main-2    1    0    0    0    0\n",
       "                Main-3    0    1    1    0    0\n",
       "                Main-4    0    1    0    1    0\n",
       "                Main-5    0    0    0    0    0\n",
       "Opthamology     Main-1    0    0    0    0    0\n",
       "                Main-2    0    0    0    0    0\n",
       "                Main-3    0    0    0    0    0\n",
       "                Main-4    0    0    0    0    1\n",
       "                Main-5    0    0    0    0    0\n",
       "Oral Surgery    Main-1    0    0    0    0    0\n",
       "                Main-2    0    0    0    0    0\n",
       "                Main-3    0    0    0    0    0\n",
       "                Main-4    0    0    0    0    0\n",
       "                Main-5    0    1    0    0    1\n",
       "Otolaryngology  Main-1    0    0    0    0    0\n",
       "                Main-2    0    0    0    0    0\n",
       "                Main-3    0    0    0    0    0\n",
       "                Main-4    0    0    0    0    0\n",
       "                Main-5    1    0    1    1    0"
      ]
     },
     "execution_count": 7,
     "metadata": {},
     "output_type": "execute_result"
    }
   ],
   "source": [
    "result = np.zeros([n_departments, n_rooms, n_days])\n",
    "for i in range(n_departments):\n",
    "    for j in range(n_rooms):\n",
    "        for k in range(n_days):\n",
    "            result[i][j][k] = x[i,j,k].x\n",
    "df1 = pd.DataFrame(result[0,:,:].astype(int), columns=['Mon', 'Tue', 'Wed', 'Thu', 'Fri'], \\\n",
    "                   index=['Main-1', 'Main-2', 'Main-3', 'Main-4', 'Main-5'])\n",
    "df2 = pd.DataFrame(result[1,:,:].astype(int), columns=['Mon', 'Tue', 'Wed', 'Thu', 'Fri'], \\\n",
    "                   index=['Main-1', 'Main-2', 'Main-3', 'Main-4', 'Main-5'])\n",
    "df3 = pd.DataFrame(result[2,:,:].astype(int), columns=['Mon', 'Tue', 'Wed', 'Thu', 'Fri'], \\\n",
    "                   index=['Main-1', 'Main-2', 'Main-3', 'Main-4', 'Main-5'])\n",
    "df4 = pd.DataFrame(result[3,:,:].astype(int), columns=['Mon', 'Tue', 'Wed', 'Thu', 'Fri'], \\\n",
    "                   index=['Main-1', 'Main-2', 'Main-3', 'Main-4', 'Main-5'])\n",
    "df5 = pd.DataFrame(result[4,:,:].astype(int), columns=['Mon', 'Tue', 'Wed', 'Thu', 'Fri'], \\\n",
    "                   index=['Main-1', 'Main-2', 'Main-3', 'Main-4', 'Main-5'])\n",
    "df6 = pd.DataFrame(result[5,:,:].astype(int), columns=['Mon', 'Tue', 'Wed', 'Thu', 'Fri'], \\\n",
    "                   index=['Main-1', 'Main-2', 'Main-3', 'Main-4', 'Main-5'])\n",
    "\n",
    "schedule = pd.concat([df1, df2, df3, df4, df5, df6], \\\n",
    "           keys=('General Surgery','Emergency','Neurosurgery', \\\n",
    "                 'Opthamology','Oral Surgery','Otolaryngology'))\n",
    "\n",
    "department_dames = np.unique([item[0] for item in schedule.index.values])\n",
    "\n",
    "schedule"
   ]
  },
  {
   "cell_type": "code",
   "execution_count": 8,
   "metadata": {},
   "outputs": [
    {
     "name": "stdout",
     "output_type": "stream",
     "text": [
      "Department       Hours Allocated      \n",
      "\n",
      "Emergency          98.00\n",
      "General Surgery     9.00\n",
      "Neurosurgery       54.00\n",
      "Opthamology        16.00\n",
      "Oral Surgery       14.00\n",
      "Otolaryngology     22.50\n"
     ]
    }
   ],
   "source": [
    "obtained_hours = np.zeros(n_departments)\n",
    "for i in range(n_departments):\n",
    "    obtained_hours[i] = sum(result[i][j][k]*available_hours[j][k] for j in range(n_rooms) for k in range(n_days))\n",
    "    \n",
    "print(f'{\"Department\":<17}{\"Hours Allocated\":<20} \\n')\n",
    "for i in range(len(obtained_hours)):\n",
    "    print(f'{department_dames[i]:<17} {obtained_hours[i]:6.2f}')"
   ]
  },
  {
   "cell_type": "code",
   "execution_count": 9,
   "metadata": {},
   "outputs": [
    {
     "name": "stdout",
     "output_type": "stream",
     "text": [
      "Department       Hours Targeted       \n",
      "\n",
      "Emergency         103.38\n",
      "General Surgery     8.99\n",
      "Neurosurgery       53.94\n",
      "Opthamology        15.73\n",
      "Oral Surgery       11.24\n",
      "Otolaryngology     20.23\n"
     ]
    }
   ],
   "source": [
    "print(f'{\"Department\":<17}{\"Hours Targeted\":<20} \\n')\n",
    "for i in range(len(target_hours)):\n",
    "    print(f'{department_dames[i]:<17} {target_hours[i]:6.2f}')"
   ]
  },
  {
   "cell_type": "code",
   "execution_count": 10,
   "metadata": {},
   "outputs": [
    {
     "name": "stdout",
     "output_type": "stream",
     "text": [
      "Department       Target Reached       \n",
      "\n",
      "Emergency         False\n",
      "General Surgery   True\n",
      "Neurosurgery      True\n",
      "Opthamology       True\n",
      "Oral Surgery      True\n",
      "Otolaryngology    True\n"
     ]
    }
   ],
   "source": [
    "# Departments received more hours that targeted\n",
    "print(f'{\"Department\":<17}{\"Target Reached\":<20} \\n')\n",
    "\n",
    "for i in range(len(target_hours)):\n",
    "    print(f'{department_dames[i]:<17} {obtained_hours[i] > target_hours[i]}')"
   ]
  },
  {
   "cell_type": "code",
   "execution_count": 11,
   "metadata": {},
   "outputs": [
    {
     "data": {
      "text/plain": [
       "array([[1., 1., 1., 1., 1.],\n",
       "       [1., 1., 1., 1., 1.],\n",
       "       [1., 1., 1., 1., 1.],\n",
       "       [1., 1., 1., 1., 1.],\n",
       "       [1., 1., 1., 1., 1.]])"
      ]
     },
     "execution_count": 11,
     "metadata": {},
     "output_type": "execute_result"
    }
   ],
   "source": [
    "# Checking that no departments took the same slot\n",
    "np.sum(result, axis=0)"
   ]
  },
  {
   "cell_type": "code",
   "execution_count": 12,
   "metadata": {},
   "outputs": [
    {
     "name": "stdout",
     "output_type": "stream",
     "text": [
      "Department       Underallocation hours \n",
      "\n",
      "Emergency         5.38\n",
      "General Surgery   0.00\n",
      "Neurosurgery      0.00\n",
      "Opthamology       0.00\n",
      "Oral Surgery      0.00\n",
      "Otolaryngology    0.00\n"
     ]
    }
   ],
   "source": [
    "# Underallocation hours per department\n",
    "\n",
    "s_opt = [s[i].x for i in range(n_departments)]\n",
    "\n",
    "print(f'{\"Department\":<17}{\"Underallocation hours\":<20} \\n')\n",
    "\n",
    "for i in range(len(s_opt)):\n",
    "    print(f'{department_dames[i]:<17} {s_opt[i]:3.2f}')"
   ]
  },
  {
   "cell_type": "code",
   "execution_count": 13,
   "metadata": {},
   "outputs": [
    {
     "name": "stdout",
     "output_type": "stream",
     "text": [
      "Department       Underallocation/target hours in % \n",
      "\n",
      "Emergency         5.20\n",
      "General Surgery   0.00\n",
      "Neurosurgery      0.00\n",
      "Opthamology       0.00\n",
      "Oral Surgery      0.00\n",
      "Otolaryngology    0.00\n"
     ]
    }
   ],
   "source": [
    "# Relative under-allocation percentage for departments\n",
    "underalloc = s_opt/target_hours * 100\n",
    "\n",
    "print(f'{\"Department\":<17}{\"Underallocation/target hours in %\":<20} \\n')\n",
    "\n",
    "for i in range(len(underalloc)):\n",
    "    print(f'{department_dames[i]:<17} {underalloc[i]:3.2f}')"
   ]
  }
 ],
 "metadata": {
  "kernelspec": {
   "display_name": "Python 3",
   "language": "python",
   "name": "python3"
  },
  "language_info": {
   "codemirror_mode": {
    "name": "ipython",
    "version": 3
   },
   "file_extension": ".py",
   "mimetype": "text/x-python",
   "name": "python",
   "nbconvert_exporter": "python",
   "pygments_lexer": "ipython3",
   "version": "3.7.5"
  }
 },
 "nbformat": 4,
 "nbformat_minor": 4
}
